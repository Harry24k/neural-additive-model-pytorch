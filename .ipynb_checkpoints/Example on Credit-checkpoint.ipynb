{
 "cells": [
  {
   "cell_type": "markdown",
   "id": "bc4944a7",
   "metadata": {},
   "source": [
    "# Training"
   ]
  },
  {
   "cell_type": "code",
   "execution_count": 1,
   "id": "997c6d64",
   "metadata": {},
   "outputs": [
    {
     "name": "stdout",
     "output_type": "stream",
     "text": [
      "0.1.0\n"
     ]
    }
   ],
   "source": [
    "import torch\n",
    "# import sys; sys.path.insert(0, '..')\n",
    "import torchnam\n",
    "print(torchnam.__version__)"
   ]
  },
  {
   "cell_type": "code",
   "execution_count": 2,
   "id": "91de6dec",
   "metadata": {},
   "outputs": [],
   "source": [
    "device = \"cuda\" if torch.cuda.is_available() else \"cpu\""
   ]
  },
  {
   "cell_type": "markdown",
   "id": "35ec77bb",
   "metadata": {},
   "source": [
    "### Settings"
   ]
  },
  {
   "cell_type": "code",
   "execution_count": 3,
   "id": "5e747405",
   "metadata": {},
   "outputs": [],
   "source": [
    "PATH = \"./models/\"\n",
    "MODEL_NAME = \"Test\"\n",
    "DATA = \"Credit\"\n",
    "SAVE_PATH = PATH + DATA + '_' + MODEL_NAME"
   ]
  },
  {
   "cell_type": "markdown",
   "id": "39d49f77",
   "metadata": {},
   "source": [
    "### Load Data"
   ]
  },
  {
   "cell_type": "code",
   "execution_count": 4,
   "id": "ca95e3ed",
   "metadata": {},
   "outputs": [],
   "source": [
    "import torchnam\n",
    "from torchnam.datasets import TabularDatasets"
   ]
  },
  {
   "cell_type": "code",
   "execution_count": 5,
   "id": "336c1032",
   "metadata": {
    "scrolled": true
   },
   "outputs": [
    {
     "name": "stderr",
     "output_type": "stream",
     "text": [
      "WARNING:root:transforms.ToTensor() is used as a train transform.\n",
      "WARNING:root:transforms.ToTensor() is used as a test transform.\n",
      "WARNING:root:transforms.ToTensor() is used as a val transform.\n"
     ]
    },
    {
     "name": "stdout",
     "output_type": "stream",
     "text": [
      "Data Loaded!\n",
      "Train Data Length : 227845\n",
      "Test Data Length : 56962\n"
     ]
    },
    {
     "name": "stderr",
     "output_type": "stream",
     "text": [
      "WARNING:root:shuffle_train is mutually exclusive with make_balanced_train.\n"
     ]
    }
   ],
   "source": [
    "data = TabularDatasets(data_name=DATA, root=\"./data/\")\n",
    "train_loader, test_loader = data.get_loader(batch_size=2000,\n",
    "                                            make_balanced_train=True)\n",
    "n_features = data.n_features"
   ]
  },
  {
   "cell_type": "markdown",
   "id": "ea4593c3",
   "metadata": {},
   "source": [
    "### Load Model"
   ]
  },
  {
   "cell_type": "code",
   "execution_count": 6,
   "id": "0bd399c2",
   "metadata": {},
   "outputs": [],
   "source": [
    "import torch.nn as nn\n",
    "from torchnam.modules.grouplinear import GroupLinear, ResGroupLinear\n",
    "from torchnam.nam import NAM"
   ]
  },
  {
   "cell_type": "code",
   "execution_count": 7,
   "id": "2c372485",
   "metadata": {},
   "outputs": [],
   "source": [
    "h_dim = 32\n",
    "\n",
    "feature_model = nn.Sequential(\n",
    "    GroupLinear(1, h_dim, n_features, bias=True),\n",
    "    nn.BatchNorm1d(h_dim*n_features),\n",
    "    nn.ReLU(),\n",
    "    ResGroupLinear(h_dim, h_dim, n_features, bias=True),\n",
    "    nn.ReLU(),\n",
    "    ResGroupLinear(h_dim, h_dim, n_features, bias=True),\n",
    "    nn.ReLU(),\n",
    "    ResGroupLinear(h_dim, h_dim, n_features, bias=True),\n",
    "    nn.ReLU(),\n",
    "    GroupLinear(h_dim, 1, n_features, bias=True),\n",
    ")\n",
    "\n",
    "model = NAM(feature_model, n_features, n_classes=1, n_tasks=1)\n",
    "model = model.to(device)"
   ]
  },
  {
   "cell_type": "markdown",
   "id": "e524aa91",
   "metadata": {},
   "source": [
    "### Check Validity"
   ]
  },
  {
   "cell_type": "code",
   "execution_count": 8,
   "id": "b6e296c0",
   "metadata": {},
   "outputs": [
    {
     "name": "stdout",
     "output_type": "stream",
     "text": [
      "x: torch.Size([2000, 30])\n",
      "y: torch.Size([2000])\n",
      "output: torch.Size([2000, 1])\n"
     ]
    }
   ],
   "source": [
    "for x, y in train_loader:\n",
    "    break\n",
    "    \n",
    "print(\"x:\", x.shape)\n",
    "print(\"y:\", y.shape)\n",
    "print(\"output:\", model(x.to(device)).shape)"
   ]
  },
  {
   "cell_type": "markdown",
   "id": "f462a38c",
   "metadata": {},
   "source": [
    "### Start Training"
   ]
  },
  {
   "cell_type": "code",
   "execution_count": 9,
   "id": "c803c93a",
   "metadata": {},
   "outputs": [],
   "source": [
    "loss = nn.BCEWithLogitsLoss()\n",
    "optimizer = torch.optim.SGD(model.parameters(), lr=0.01, momentum=0.9, weight_decay=5e-4)\n",
    "num_epochs = 5"
   ]
  },
  {
   "cell_type": "code",
   "execution_count": 10,
   "id": "29a7cd48",
   "metadata": {
    "scrolled": true
   },
   "outputs": [
    {
     "name": "stdout",
     "output_type": "stream",
     "text": [
      "Epoch [1/5], lter [50/113], Loss: 0.1396\n",
      "Epoch [1/5], lter [100/113], Loss: 0.1037\n",
      "Epoch [2/5], lter [50/113], Loss: 0.0628\n",
      "Epoch [2/5], lter [100/113], Loss: 0.0671\n",
      "Epoch [3/5], lter [50/113], Loss: 0.0498\n",
      "Epoch [3/5], lter [100/113], Loss: 0.0443\n",
      "Epoch [4/5], lter [50/113], Loss: 0.0358\n",
      "Epoch [4/5], lter [100/113], Loss: 0.0407\n",
      "Epoch [5/5], lter [50/113], Loss: 0.0424\n",
      "Epoch [5/5], lter [100/113], Loss: 0.0275\n",
      "Learning Finished!\n"
     ]
    }
   ],
   "source": [
    "for epoch in range(num_epochs):    \n",
    "    for i, (x, y) in enumerate(train_loader):\n",
    "        pre = model(x.to(device))\n",
    "        cost = loss(pre, y.to(device).reshape(-1, 1).float())\n",
    "        \n",
    "        optimizer.zero_grad()\n",
    "        cost.backward()\n",
    "        optimizer.step()\n",
    "        \n",
    "        if (i+1) % 50 == 0:\n",
    "            print('Epoch [%d/%d], lter [%d/%d], Loss: %.4f'\n",
    "                 %(epoch+1, num_epochs, i+1, len(train_loader), cost.item()))\n",
    "    \n",
    "print(\"Learning Finished!\")"
   ]
  },
  {
   "cell_type": "markdown",
   "id": "1878bd32",
   "metadata": {},
   "source": [
    "## Explainability"
   ]
  },
  {
   "cell_type": "code",
   "execution_count": 20,
   "id": "a8ff12f1",
   "metadata": {},
   "outputs": [],
   "source": [
    "model = model.eval()"
   ]
  },
  {
   "cell_type": "code",
   "execution_count": 26,
   "id": "319d0866",
   "metadata": {},
   "outputs": [],
   "source": [
    "for x, y in test_loader:\n",
    "    break"
   ]
  },
  {
   "cell_type": "code",
   "execution_count": 29,
   "id": "faa91483",
   "metadata": {},
   "outputs": [],
   "source": [
    "import matplotlib.pyplot as plt\n",
    "plt.rcParams.update({'font.size': 12})"
   ]
  },
  {
   "cell_type": "code",
   "execution_count": 22,
   "id": "473a082c",
   "metadata": {},
   "outputs": [],
   "source": [
    "sample = x[0:1]"
   ]
  },
  {
   "cell_type": "code",
   "execution_count": 23,
   "id": "3a69a327",
   "metadata": {},
   "outputs": [
    {
     "data": {
      "text/plain": [
       "tensor([[ 1.6076e+05, -6.7447e-01,  1.4081e+00, -1.1106e+00, -1.3284e+00,\n",
       "          1.3890e+00, -1.3084e+00,  1.8859e+00, -6.1423e-01,  3.1165e-01,\n",
       "          6.5076e-01, -8.5778e-01, -2.2996e-01, -1.9982e-01,  2.6637e-01,\n",
       "         -4.6544e-02, -7.4140e-01, -6.0562e-01, -3.9257e-01, -1.6265e-01,\n",
       "          3.9432e-01,  8.0084e-02,  8.1003e-01, -2.2433e-01,  7.0790e-01,\n",
       "         -1.3584e-01,  4.5102e-02,  5.3384e-01,  2.9132e-01,  2.3000e+01]])"
      ]
     },
     "execution_count": 23,
     "metadata": {},
     "output_type": "execute_result"
    }
   ],
   "source": [
    "sample"
   ]
  },
  {
   "cell_type": "code",
   "execution_count": 41,
   "id": "9e6178f2",
   "metadata": {},
   "outputs": [],
   "source": [
    "# 'hidden':'batch_size x n_clases x n_features',\n",
    "# 'bias':'n_clases',\n",
    "# 'out':'batch_size x n_classes',\n",
    "hidden, bias, out = model.forward_with_feature(sample.to(device))"
   ]
  },
  {
   "cell_type": "code",
   "execution_count": 42,
   "id": "ad7a9b1d",
   "metadata": {},
   "outputs": [
    {
     "data": {
      "text/plain": [
       "(tensor([[[ 5.3317e-01,  5.0626e-01,  1.5152e-01,  1.7856e-01, -4.7412e+00,\n",
       "            6.3261e-03, -4.4585e-01,  9.1365e-01,  4.8374e-01, -2.1646e-01,\n",
       "           -5.3532e-01, -5.1379e-01,  3.3274e-01, -8.5870e-02, -2.0713e+00,\n",
       "           -2.3290e-01,  1.7546e-02, -3.4018e-01, -2.5015e-01, -7.9432e-01,\n",
       "           -2.3567e-01, -2.7551e-03,  3.4510e-01, -2.2492e-02,  7.2458e-01,\n",
       "           -6.7345e-02, -5.4306e-01,  1.0293e-01, -2.9127e-02, -1.7343e-01]]],\n",
       "        device='cuda:0', grad_fn=<MulBackward0>),\n",
       " tensor([0.0361], device='cuda:0', grad_fn=<ViewBackward>),\n",
       " tensor([[-6.9690]], device='cuda:0', grad_fn=<AddBackward0>))"
      ]
     },
     "execution_count": 42,
     "metadata": {},
     "output_type": "execute_result"
    }
   ],
   "source": [
    "hidden, bias, out"
   ]
  },
  {
   "cell_type": "code",
   "execution_count": 51,
   "id": "e4d3925e",
   "metadata": {},
   "outputs": [
    {
     "data": {
      "text/plain": [
       "Text(0, 0.5, 'Features')"
      ]
     },
     "execution_count": 51,
     "metadata": {},
     "output_type": "execute_result"
    },
    {
     "data": {
      "image/png": "[encoded data removed]",
      "text/plain": [
       "<Figure size 432x288 with 1 Axes>"
      ]
     },
     "metadata": {
      "needs_background": "light"
     },
     "output_type": "display_data"
    }
   ],
   "source": [
    "import matplotlib.pyplot as plt\n",
    "import numpy as np\n",
    "plt.grid()\n",
    "plt.bar(np.arange(n_features), hidden.cpu().detach().numpy()[0, 0], color='r')\n",
    "plt.xlabel(\"Impact\")\n",
    "plt.ylabel(\"Features\")"
   ]
  },
  {
   "cell_type": "markdown",
   "id": "4a0a10f5",
   "metadata": {},
   "source": [
    "## What's the function shape of Feature 4?"
   ]
  },
  {
   "cell_type": "code",
   "execution_count": 54,
   "id": "38239ca8",
   "metadata": {},
   "outputs": [],
   "source": [
    "max_value, min_value = x[:, 4].max(), x[:, 4].min()"
   ]
  },
  {
   "cell_type": "code",
   "execution_count": 69,
   "id": "3f773838",
   "metadata": {},
   "outputs": [],
   "source": [
    "step = 0.1\n",
    "dummy_index = torch.arange(min_value, max_value+step, step)\n",
    "dummy_samples = torch.stack([dummy_index]*n_features, dim=1)\n",
    "hidden, bias, out = model.forward_with_feature(dummy_samples.to(device))"
   ]
  },
  {
   "cell_type": "code",
   "execution_count": 71,
   "id": "f13bc484",
   "metadata": {},
   "outputs": [
    {
     "data": {
      "text/plain": [
       "Text(0, 0.5, 'Function Value')"
      ]
     },
     "execution_count": 71,
     "metadata": {},
     "output_type": "execute_result"
    },
    {
     "data": {
      "image/png": "[encoded data removed]",
      "text/plain": [
       "<Figure size 432x288 with 1 Axes>"
      ]
     },
     "metadata": {
      "needs_background": "light"
     },
     "output_type": "display_data"
    }
   ],
   "source": [
    "# 'hidden':'batch_size x n_clases x n_features',\n",
    "plt.grid()\n",
    "plt.plot(dummy_index, hidden[:, :, 4].cpu().detach().numpy(), color='r')\n",
    "plt.xlabel(\"Feature Value\")\n",
    "plt.ylabel(\"Function Value\")"
   ]
  },
  {
   "cell_type": "markdown",
   "id": "202252ab",
   "metadata": {},
   "source": [
    "Conclusion: As feature #4 increases, the probability increases."
   ]
  }
 ],
 "metadata": {
  "kernelspec": {
   "display_name": "Python 3",
   "language": "python",
   "name": "python3"
  },
  "language_info": {
   "codemirror_mode": {
    "name": "ipython",
    "version": 3
   },
   "file_extension": ".py",
   "mimetype": "text/x-python",
   "name": "python",
   "nbconvert_exporter": "python",
   "pygments_lexer": "ipython3",
   "version": "3.8.8"
  }
 },
 "nbformat": 4,
 "nbformat_minor": 5
}
